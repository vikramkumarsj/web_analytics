{
 "cells": [
  {
   "cell_type": "markdown",
   "metadata": {
    "collapsed": true
   },
   "source": [
    "## 1. Introduction"
   ]
  },
  {
   "cell_type": "markdown",
   "metadata": {},
   "source": [
    "Web analytics is a fascinating domain and important target of data science. Seeing where people come from (geographical information), what they do (behavioral analyses), how they visit (device: mobile, tablet or workstation), and when they visit your website (time-related info, frequency etc), are all different metrics of webtraffic that have potential business value. Google Analytics is one of the available opensource tools that is highly used and well-documented."
   ]
  },
  {
   "cell_type": "markdown",
   "metadata": {},
   "source": [
    "The current code showa how to implement web analytics in Python. Google Analytics has a rich variety of metrics and dimensions available. It has a good\n",
    "visualization and an intuitive Graphic User Interface (GUI). However, in certain situations it makes sense to automate webanalytics and add advanced statistics and\n",
    "visualizations. In the current code, I will show how to do that using Python."
   ]
  },
  {
   "cell_type": "markdown",
   "metadata": {},
   "source": [
    "To realise these goals, what follows are the analytical steps needed from data acquisition to visualization. If at this moment we are not able to run Google Analytics for your own website but want to nevertheless reproduce the data analyses in Python, I advice to load the DataFrames (df1, df2, df3, df3a, df3b) from below GitHub site using the following code (change the \"df\"-filename accordingly)."
   ]
  },
  {
   "cell_type": "markdown",
   "metadata": {},
   "source": [
    "### Import libraries"
   ]
  },
  {
   "cell_type": "code",
   "execution_count": 3,
   "metadata": {},
   "outputs": [
    {
     "name": "stdout",
     "output_type": "stream",
     "text": [
      "Collecting git+https://github.com/panalysis/Google2Pandas\n",
      "  Cloning https://github.com/panalysis/Google2Pandas to /gpfs/global_fs01/sym_shared/YPProdSpark/user/sfc4-d48bed32151ab8-10b9e724ea57/notebook/tmp/pip-k_tujz-build\n",
      "Requirement already satisfied: numpy>=1.7 in /usr/local/src/bluemix_jupyter_bundle.v61/notebook/lib/python2.7/site-packages (from Google2Pandas==0.1.1)\n",
      "Requirement already satisfied: pandas>=0.15 in /usr/local/src/bluemix_jupyter_bundle.v61/notebook/lib/python2.7/site-packages (from Google2Pandas==0.1.1)\n",
      "Collecting google-api-python-client (from Google2Pandas==0.1.1)\n",
      "  Downloading google_api_python_client-1.6.4-py2.py3-none-any.whl (53kB)\n",
      "\u001b[K    100% |████████████████████████████████| 61kB 1.4MB/s eta 0:00:01\n",
      "\u001b[?25hCollecting httplib2 (from Google2Pandas==0.1.1)\n",
      "  Downloading httplib2-0.10.3.tar.gz (204kB)\n",
      "\u001b[K    100% |████████████████████████████████| 204kB 3.7MB/s eta 0:00:01\n",
      "\u001b[?25hRequirement already satisfied: python-dateutil in /usr/local/src/bluemix_jupyter_bundle.v61/notebook/lib/python2.7/site-packages (from pandas>=0.15->Google2Pandas==0.1.1)\n",
      "Requirement already satisfied: pytz>=2011k in /usr/local/src/bluemix_jupyter_bundle.v61/notebook/lib/python2.7/site-packages (from pandas>=0.15->Google2Pandas==0.1.1)\n",
      "Requirement already satisfied: six<2dev,>=1.6.1 in /usr/local/src/bluemix_jupyter_bundle.v61/notebook/lib/python2.7/site-packages (from google-api-python-client->Google2Pandas==0.1.1)\n",
      "Collecting oauth2client<5.0.0dev,>=1.5.0 (from google-api-python-client->Google2Pandas==0.1.1)\n",
      "  Downloading oauth2client-4.1.2-py2.py3-none-any.whl (99kB)\n",
      "\u001b[K    100% |████████████████████████████████| 102kB 454kB/s a 0:00:011\n",
      "\u001b[?25hCollecting uritemplate<4dev,>=3.0.0 (from google-api-python-client->Google2Pandas==0.1.1)\n",
      "  Downloading uritemplate-3.0.0-py2.py3-none-any.whl\n",
      "Collecting rsa>=3.1.4 (from oauth2client<5.0.0dev,>=1.5.0->google-api-python-client->Google2Pandas==0.1.1)\n",
      "  Downloading rsa-3.4.2-py2.py3-none-any.whl (46kB)\n",
      "\u001b[K    100% |████████████████████████████████| 51kB 4.3MB/s eta 0:00:01\n",
      "\u001b[?25hCollecting pyasn1>=0.1.7 (from oauth2client<5.0.0dev,>=1.5.0->google-api-python-client->Google2Pandas==0.1.1)\n",
      "  Downloading pyasn1-0.3.6-py2.py3-none-any.whl (63kB)\n",
      "\u001b[K    100% |████████████████████████████████| 71kB 5.5MB/s eta 0:00:01\n",
      "\u001b[?25hCollecting pyasn1-modules>=0.0.5 (from oauth2client<5.0.0dev,>=1.5.0->google-api-python-client->Google2Pandas==0.1.1)\n",
      "  Downloading pyasn1_modules-0.1.4-py2.py3-none-any.whl (60kB)\n",
      "\u001b[K    100% |████████████████████████████████| 61kB 280kB/s ta 0:00:011\n",
      "\u001b[?25hBuilding wheels for collected packages: httplib2\n",
      "  Running setup.py bdist_wheel for httplib2 ... \u001b[?25ldone\n",
      "\u001b[?25h  Stored in directory: /gpfs/fs01/user/sfc4-d48bed32151ab8-10b9e724ea57/.cache/pip/wheels/ca/ac/5f/749651f7925b231103f5316cacca82a487810c22d30f011c0c\n",
      "Successfully built httplib2\n",
      "Installing collected packages: pyasn1, rsa, httplib2, pyasn1-modules, oauth2client, uritemplate, google-api-python-client, Google2Pandas\n",
      "  Running setup.py install for Google2Pandas ... \u001b[?25ldone\n",
      "\u001b[?25hSuccessfully installed Google2Pandas-0.1.1 google-api-python-client-1.6.4 httplib2-0.10.3 oauth2client-4.1.2 pyasn1-0.3.6 pyasn1-modules-0.1.4 rsa-3.4.2 uritemplate-3.0.0\n"
     ]
    }
   ],
   "source": [
    "!pip install git+https://github.com/panalysis/Google2Pandas"
   ]
  },
  {
   "cell_type": "code",
   "execution_count": 5,
   "metadata": {},
   "outputs": [
    {
     "name": "stdout",
     "output_type": "stream",
     "text": [
      "Collecting geonamescache\n",
      "  Downloading geonamescache-0.21-py2-none-any.whl (968kB)\n",
      "\u001b[K    100% |████████████████████████████████| 972kB 1.0MB/s eta 0:00:01\n",
      "\u001b[?25hInstalling collected packages: geonamescache\n",
      "Successfully installed geonamescache-0.21\n"
     ]
    }
   ],
   "source": [
    "!pip install geonamescache"
   ]
  },
  {
   "cell_type": "code",
   "execution_count": 13,
   "metadata": {
    "collapsed": true
   },
   "outputs": [],
   "source": [
    "import geonamescache\n",
    "from geonamescache import GeonamesCache"
   ]
  },
  {
   "cell_type": "code",
   "execution_count": 16,
   "metadata": {},
   "outputs": [],
   "source": [
    "import pandas as pd\n",
    "import numpy as np\n",
    "from google2pandas import *\n",
    "import matplotlib as mpl\n",
    "import matplotlib.pyplot as plt\n",
    "import sys\n",
    "from geonamescache.mappers import country\n",
    "from matplotlib.patches import Polygon\n",
    "from matplotlib.collections import PatchCollection\n",
    "from mpl_toolkits.basemap import Basemap\n",
    "from scipy import stats\n",
    "import matplotlib.patches as mpatches\n",
    "import plotly\n",
    "import plotly.plotly as py\n",
    "from IPython.display import Image\n",
    "from plotly import tools\n",
    "from plotly.graph_objs import *"
   ]
  },
  {
   "cell_type": "markdown",
   "metadata": {},
   "source": [
    "### Import sample data files if  google analytics access at this moment is not possible"
   ]
  },
  {
   "cell_type": "code",
   "execution_count": 17,
   "metadata": {},
   "outputs": [],
   "source": [
    "url = 'https://raw.githubusercontent.com/RRighart/GA/master/df1.csv'\n",
    "df1 = pd.read_csv(url, parse_dates=True, delimiter=\",\", decimal=\",\")"
   ]
  },
  {
   "cell_type": "code",
   "execution_count": 41,
   "metadata": {
    "collapsed": true
   },
   "outputs": [],
   "source": [
    "url = 'https://raw.githubusercontent.com/RRighart/GA/master/df2.csv'\n",
    "df2 = pd.read_csv(url, parse_dates=True, delimiter=\",\", decimal=\",\")"
   ]
  },
  {
   "cell_type": "code",
   "execution_count": 42,
   "metadata": {
    "collapsed": true
   },
   "outputs": [],
   "source": [
    "url = 'https://raw.githubusercontent.com/RRighart/GA/master/df3.csv'\n",
    "df3 = pd.read_csv(url, parse_dates=True, delimiter=\",\", decimal=\",\")"
   ]
  },
  {
   "cell_type": "code",
   "execution_count": 43,
   "metadata": {
    "collapsed": true
   },
   "outputs": [],
   "source": [
    "url = 'https://raw.githubusercontent.com/RRighart/GA/master/df3a.csv'\n",
    "df3a = pd.read_csv(url, parse_dates=True, delimiter=\",\", decimal=\",\")"
   ]
  },
  {
   "cell_type": "code",
   "execution_count": 44,
   "metadata": {
    "collapsed": true
   },
   "outputs": [],
   "source": [
    "url = 'https://raw.githubusercontent.com/RRighart/GA/master/df3b.csv'\n",
    "df3b = pd.read_csv(url, parse_dates=True, delimiter=\",\", decimal=\",\")"
   ]
  },
  {
   "cell_type": "markdown",
   "metadata": {},
   "source": [
    "## 2. Setting up Google Analytics Account for website Data Import process."
   ]
  },
  {
   "cell_type": "markdown",
   "metadata": {},
   "source": [
    "You need to first subscribe to Google Analytics and add your website.\n",
    "Detail steps are found in the link. \n",
    "https://github.com/vikramkumarsj/web_analytics/blob/master/Google_Analytics_Import.pdf\n"
   ]
  },
  {
   "cell_type": "markdown",
   "metadata": {},
   "source": [
    "## 3. Get your data in Python\n"
   ]
  },
  {
   "cell_type": "markdown",
   "metadata": {},
   "source": [
    "A major advantage of using Python is that you can automate data extraction, customize settings and build your own platform, statistics, predictive analytics, and visualizations, if you desire all in a single script. Regarding visualizations, it would be possible to build for example dynamic geographic maps in Python, showing how the flux of visitors changed locally and globally from day-to-day, week-to-week.\n",
    "\n",
    "Google2pandas is a tool that transfers data from Google Analytics to Python into a Pandas DataFrame. From there you could proceed further making for example statistics and visualizations. The most important steps to enable this are:\n",
    "Getting permission from Google Analytics API\n",
    "Install Google2pandas and Pandas.\n",
    "\n",
    "Copy the following code in Jupyter notebook. Run it and verify if you obtained the right DataFrame. This should give data that are identical to\n",
    "those in Query Explorer or the data that can be displayed in Google Analytics. So we started collecting the data at July 20, and ended at August 7.\n",
    "\n",
    "There are by the way a number of handy options to select start_date and end_date, such as '7daysAgo' (you can change the number to your likings,\n",
    "for ex. '10daysAgo') or 'today'. These options come in very useful if you want to regularly extract and analyze a same time period. For example, if\n",
    "you want to make a report every thursday morning going one week back (\"7daysAgo\"), you could in principal run everytime the same script without\n",
    "changing anything.\n",
    "\n",
    "df1 = []\n",
    "\n",
    "conn = GoogleAnalyticsQuery(secrets='/your-directory/ga-creds/client_secret.json', token_file_name='/your-directory/ga-creds/analytics.dat')\n",
    "\n",
    "query = {\n",
    "'ids' : '999999999',\n",
    "'metrics' : 'sessions',\n",
    "'dimensions' : 'date',\n",
    "'start_date' : '2017-07-20',\n",
    "'end_date' : '2017-08-07'\n",
    "}\n",
    "\n",
    "df1, metadata = conn.execute_query(**query)\n",
    "\n",
    "print(df1)"
   ]
  },
  {
   "cell_type": "markdown",
   "metadata": {},
   "source": [
    "## 4. Plotting number of sessions as a function of date\n"
   ]
  },
  {
   "cell_type": "markdown",
   "metadata": {},
   "source": [
    "To answer the first question -- what is the effect of a campaign on the webtraffic?,we will analyze if campaigning had a sizeable effect on the number of sessions. \n",
    "First,to improve readability of the resulting plot, we will modify the date string that will be in the x-axis. Therefore, we will remove the year part, and we will reverse the order ofday and month.\n",
    "\n",
    "df1.date = df1.date.replace({'2017':''}, regex=True)\n",
    "\n",
    "df1.date = df1.date.map(lambda x: str(x)[2:]) + '-' + df1.date.map(lambda x: str(x)[:2])"
   ]
  },
  {
   "cell_type": "code",
   "execution_count": 29,
   "metadata": {},
   "outputs": [
    {
     "data": {
      "text/html": [
       "<div>\n",
       "<table border=\"1\" class=\"dataframe\">\n",
       "  <thead>\n",
       "    <tr style=\"text-align: right;\">\n",
       "      <th></th>\n",
       "      <th>date</th>\n",
       "      <th>sessions</th>\n",
       "    </tr>\n",
       "  </thead>\n",
       "  <tbody>\n",
       "    <tr>\n",
       "      <th>0</th>\n",
       "      <td>20-07</td>\n",
       "      <td>4</td>\n",
       "    </tr>\n",
       "    <tr>\n",
       "      <th>1</th>\n",
       "      <td>21-07</td>\n",
       "      <td>147</td>\n",
       "    </tr>\n",
       "    <tr>\n",
       "      <th>2</th>\n",
       "      <td>22-07</td>\n",
       "      <td>125</td>\n",
       "    </tr>\n",
       "    <tr>\n",
       "      <th>3</th>\n",
       "      <td>23-07</td>\n",
       "      <td>77</td>\n",
       "    </tr>\n",
       "    <tr>\n",
       "      <th>4</th>\n",
       "      <td>24-07</td>\n",
       "      <td>104</td>\n",
       "    </tr>\n",
       "  </tbody>\n",
       "</table>\n",
       "</div>"
      ],
      "text/plain": [
       "    date  sessions\n",
       "0  20-07         4\n",
       "1  21-07       147\n",
       "2  22-07       125\n",
       "3  23-07        77\n",
       "4  24-07       104"
      ]
     },
     "execution_count": 29,
     "metadata": {},
     "output_type": "execute_result"
    }
   ],
   "source": [
    "df1.head()"
   ]
  },
  {
   "cell_type": "markdown",
   "metadata": {},
   "source": [
    "Before plotting the number of sessions, let us view some summary statistics. The number of sessions was 91 on average in the inspected period."
   ]
  },
  {
   "cell_type": "code",
   "execution_count": 30,
   "metadata": {},
   "outputs": [
    {
     "data": {
      "text/plain": [
       "count     19.000000\n",
       "mean      91.210526\n",
       "std       84.652610\n",
       "min        4.000000\n",
       "25%       31.000000\n",
       "50%       67.000000\n",
       "75%      111.000000\n",
       "max      326.000000\n",
       "Name: sessions, dtype: float64"
      ]
     },
     "execution_count": 30,
     "metadata": {},
     "output_type": "execute_result"
    }
   ],
   "source": [
    "df1['sessions'].describe()"
   ]
  },
  {
   "cell_type": "markdown",
   "metadata": {},
   "source": [
    "Total number of sessions during the selected time window was 1733."
   ]
  },
  {
   "cell_type": "code",
   "execution_count": 31,
   "metadata": {},
   "outputs": [
    {
     "data": {
      "text/plain": [
       "1733"
      ]
     },
     "execution_count": 31,
     "metadata": {},
     "output_type": "execute_result"
    }
   ],
   "source": [
    "sum(df1.sessions)"
   ]
  },
  {
   "cell_type": "markdown",
   "metadata": {},
   "source": [
    "Now we are going to plot the number of sessions (y-axis) as a function of date (xaxis).\n",
    "\n",
    "Insights: number of visitors increased substantially after the publication date, there is an additional boost at July 27. \n",
    "One admittedly speculative explanation is that the blog had in the meanwhile received several \"likes\" and may have attracted other visitors. \n",
    "That the number of sessions is decreasing after a certain time as new blogs are dropping in. This means that some time after publication people are less likely to see and visit it."
   ]
  },
  {
   "cell_type": "code",
   "execution_count": 34,
   "metadata": {},
   "outputs": [
    {
     "data": {
      "image/png": "[encoded data removed]",
      "text/plain": [
       "<matplotlib.figure.Figure at 0x7f3a1059f9d0>"
      ]
     },
     "metadata": {},
     "output_type": "display_data"
    }
   ],
   "source": [
    "f1 = plt.figure(figsize=(12,8))\n",
    "plt.plot(df1.sessions, '-ko', lw = 2, markerfacecolor = 'white', markersize = 7, markeredgewidth = 2)\n",
    "plt.xticks(range(len(df1.sessions)), df1.date, size='small', rotation='vertical')\n",
    "plt.xlabel('Date')\n",
    "plt.ylabel('Number of sessions')\n",
    "plt.show()"
   ]
  },
  {
   "cell_type": "markdown",
   "metadata": {},
   "source": [
    "## 5. Geographic mapping"
   ]
  },
  {
   "cell_type": "markdown",
   "metadata": {},
   "source": [
    "To investigate the second question -- where do visitors come from? \n",
    "In this case, a world map is used that displays the number of visitors per country, using different color scales. For this purpose, we make a new\n",
    "DataFrame df2 that sorts the countries on number of sessions.\n",
    "\n",
    "df2 = []\n",
    "\n",
    "conn = GoogleAnalyticsQuery(secrets='/your-directory/ga-creds/client_secret.json', token_file_name='/your-directory/ga-creds/analytics.dat')\n",
    "\n",
    "query = {\\\n",
    "'ids' : '999999999',\n",
    "'metrics' : 'sessions',\n",
    "'dimensions' : 'country',\n",
    "'sort' : '-sessions',\n",
    "'start_date' : '2017-07-20',\n",
    "'end_date' : '2017-08-07'\n",
    "}\n",
    "                            \n",
    "df2, metadata = conn.execute_query(**query)"
   ]
  },
  {
   "cell_type": "markdown",
   "metadata": {},
   "source": [
    "The top 10 countries in terms of visitors are the following"
   ]
  },
  {
   "cell_type": "code",
   "execution_count": 47,
   "metadata": {},
   "outputs": [
    {
     "data": {
      "text/html": [
       "<div>\n",
       "<table border=\"1\" class=\"dataframe\">\n",
       "  <thead>\n",
       "    <tr style=\"text-align: right;\">\n",
       "      <th></th>\n",
       "      <th>country</th>\n",
       "      <th>sessions</th>\n",
       "    </tr>\n",
       "  </thead>\n",
       "  <tbody>\n",
       "    <tr>\n",
       "      <th>0</th>\n",
       "      <td>United States</td>\n",
       "      <td>589</td>\n",
       "    </tr>\n",
       "    <tr>\n",
       "      <th>1</th>\n",
       "      <td>India</td>\n",
       "      <td>95</td>\n",
       "    </tr>\n",
       "    <tr>\n",
       "      <th>2</th>\n",
       "      <td>Germany</td>\n",
       "      <td>91</td>\n",
       "    </tr>\n",
       "    <tr>\n",
       "      <th>3</th>\n",
       "      <td>United Kingdom</td>\n",
       "      <td>77</td>\n",
       "    </tr>\n",
       "    <tr>\n",
       "      <th>4</th>\n",
       "      <td>Australia</td>\n",
       "      <td>54</td>\n",
       "    </tr>\n",
       "    <tr>\n",
       "      <th>5</th>\n",
       "      <td>France</td>\n",
       "      <td>50</td>\n",
       "    </tr>\n",
       "    <tr>\n",
       "      <th>6</th>\n",
       "      <td>Canada</td>\n",
       "      <td>47</td>\n",
       "    </tr>\n",
       "    <tr>\n",
       "      <th>7</th>\n",
       "      <td>Brazil</td>\n",
       "      <td>44</td>\n",
       "    </tr>\n",
       "    <tr>\n",
       "      <th>8</th>\n",
       "      <td>Poland</td>\n",
       "      <td>44</td>\n",
       "    </tr>\n",
       "    <tr>\n",
       "      <th>9</th>\n",
       "      <td>South Korea</td>\n",
       "      <td>40</td>\n",
       "    </tr>\n",
       "  </tbody>\n",
       "</table>\n",
       "</div>"
      ],
      "text/plain": [
       "          country  sessions\n",
       "0   United States       589\n",
       "1           India        95\n",
       "2         Germany        91\n",
       "3  United Kingdom        77\n",
       "4       Australia        54\n",
       "5          France        50\n",
       "6          Canada        47\n",
       "7          Brazil        44\n",
       "8          Poland        44\n",
       "9     South Korea        40"
      ]
     },
     "execution_count": 47,
     "metadata": {},
     "output_type": "execute_result"
    }
   ],
   "source": [
    "df2.head(10)"
   ]
  },
  {
   "cell_type": "markdown",
   "metadata": {},
   "source": [
    "It turns out that visitors come from 80 countries,"
   ]
  },
  {
   "cell_type": "code",
   "execution_count": 48,
   "metadata": {},
   "outputs": [
    {
     "data": {
      "text/plain": [
       "80"
      ]
     },
     "execution_count": 48,
     "metadata": {},
     "output_type": "execute_result"
    }
   ],
   "source": [
    "len(df2)"
   ]
  },
  {
   "cell_type": "markdown",
   "metadata": {},
   "source": [
    "To get a better impression of the real number of sessions from \"top 30\" countries, wecould make a barplot"
   ]
  },
  {
   "cell_type": "code",
   "execution_count": 49,
   "metadata": {
    "collapsed": true
   },
   "outputs": [],
   "source": [
    "ndd = df2.head(30)"
   ]
  },
  {
   "cell_type": "code",
   "execution_count": 50,
   "metadata": {},
   "outputs": [
    {
     "data": {
      "image/png": "[encoded data removed]",
      "text/plain": [
       "<matplotlib.figure.Figure at 0x7f3a1056c0d0>"
      ]
     },
     "metadata": {},
     "output_type": "display_data"
    }
   ],
   "source": [
    "fig = plt.figure(figsize=(10, 8), facecolor='w')\n",
    "fig.subplots_adjust(wspace=0.2)\n",
    "ax1 = plt.subplot(1,1,1)\n",
    "barwd = 0.6\n",
    "r1=range(len(ndd))\n",
    "ax1.barh(r1, ndd.sort_values(by='sessions', ascending=True).sessions, height=0.4, align=\"center\", color=\"orange\")\n",
    "ax1.set_yticks(r1)\n",
    "ax1.set_yticklabels(ndd.sort_values(by='sessions', ascending=True).country, size=9)\n",
    "plt.show()"
   ]
  },
  {
   "cell_type": "markdown",
   "metadata": {},
   "source": [
    "## 6. Device"
   ]
  },
  {
   "cell_type": "markdown",
   "metadata": {},
   "source": [
    "The third question, what kind of devices do my visitors use? can be best answered using a piechart, since it nicely illustrates the proportions.\n",
    "\n",
    "df3 = []\n",
    "\n",
    "conn = GoogleAnalyticsQuery(secrets='/your-directory/ga-creds/client_secret.json', token_file_name='/your-directory/ga-creds/analytics.dat')\n",
    "\n",
    "query = {\n",
    "'ids' : '999999999',\n",
    "'metrics' : 'sessions',\n",
    "'dimensions' : 'deviceCategory',\n",
    "'sort' : '-sessions',\n",
    "'start_date' : '2017-07-20',\n",
    "'end_date' : '2017-08-07'\n",
    "}\n",
    "\n",
    "df3, metadata = conn.execute_query(**query)\n"
   ]
  },
  {
   "cell_type": "code",
   "execution_count": 83,
   "metadata": {},
   "outputs": [
    {
     "data": {
      "text/html": [
       "<div>\n",
       "<table border=\"1\" class=\"dataframe\">\n",
       "  <thead>\n",
       "    <tr style=\"text-align: right;\">\n",
       "      <th></th>\n",
       "      <th>deviceCategory</th>\n",
       "      <th>sessions</th>\n",
       "    </tr>\n",
       "  </thead>\n",
       "  <tbody>\n",
       "    <tr>\n",
       "      <th>0</th>\n",
       "      <td>desktop</td>\n",
       "      <td>1182</td>\n",
       "    </tr>\n",
       "    <tr>\n",
       "      <th>1</th>\n",
       "      <td>mobile</td>\n",
       "      <td>478</td>\n",
       "    </tr>\n",
       "    <tr>\n",
       "      <th>2</th>\n",
       "      <td>tablet</td>\n",
       "      <td>73</td>\n",
       "    </tr>\n",
       "  </tbody>\n",
       "</table>\n",
       "</div>"
      ],
      "text/plain": [
       "  deviceCategory  sessions\n",
       "0        desktop      1182\n",
       "1         mobile       478\n",
       "2         tablet        73"
      ]
     },
     "execution_count": 83,
     "metadata": {},
     "output_type": "execute_result"
    }
   ],
   "source": [
    "df3.head()"
   ]
  },
  {
   "cell_type": "markdown",
   "metadata": {},
   "source": [
    "For this purpose we are going to use Plotly, but one could equally well do this using for example Matplotlib.\n",
    "Please be aware that you would need a so-called api-key to do this, which you will receive upon registration at the Plotly website"
   ]
  },
  {
   "cell_type": "code",
   "execution_count": null,
   "metadata": {
    "collapsed": true
   },
   "outputs": [],
   "source": [
    "plotly.tools.set_credentials_file(username='your_plotly_username', api_key='your_plotly_API_password')"
   ]
  },
  {
   "cell_type": "code",
   "execution_count": 91,
   "metadata": {},
   "outputs": [],
   "source": [
    "fig = {\n",
    "    'data': [{'labels': df3.deviceCategory,\n",
    "              'values': df3.sessions,\n",
    "              'type': 'pie'\n",
    "             }\n",
    "            ],\n",
    "    'layout': {'title': 'Number of sessions as a function of device'}\n",
    "    }\n"
   ]
  },
  {
   "cell_type": "code",
   "execution_count": 92,
   "metadata": {},
   "outputs": [
    {
     "data": {
      "text/html": [
       "<iframe id=\"igraph\" scrolling=\"no\" style=\"border:none;\" seamless=\"seamless\" src=\"https://plot.ly/~newbilearning/0.embed\" height=\"525px\" width=\"100%\"></iframe>"
      ],
      "text/plain": [
       "<plotly.tools.PlotlyDisplay object>"
      ]
     },
     "execution_count": 92,
     "metadata": {},
     "output_type": "execute_result"
    }
   ],
   "source": [
    "py.iplot(fig)"
   ]
  },
  {
   "cell_type": "markdown",
   "metadata": {},
   "source": [
    "The pie chart shows that a large majority of the visitors used a desktop. Does this change from one week to another week? \n",
    "It would be possible to show the change in device use over time using multiple pie charts. First, we make two datasets, a dataset for the first and second week, df3a and df3b respectively.\n",
    "\n",
    "df3a = []\n",
    "\n",
    "conn = GoogleAnalyticsQuery(secrets='/your-directory/ga-creds/client_secret.json', token_file_name='/your-directory/ga-creds/analytics.dat')\n",
    "\n",
    "query = {\n",
    "'ids' : '999999999',\n",
    "'metrics' : 'sessions',\n",
    "'dimensions' : 'deviceCategory',\n",
    "'sort' : '-sessions',\n",
    "'start_date' : '2017-07-20',\n",
    "'end_date' : '2017-07-26'\n",
    "}\n",
    "\n",
    "df3a, metadata = conn.execute_query(**query)\n",
    "\n",
    "df3b = []\n",
    "\n",
    "conn = GoogleAnalyticsQuery(secrets='/your-directory/ga-creds/client_secret.json', token_file_name='/your-directory/ga-creds/analytics.dat')\n",
    "\n",
    "query = {\n",
    "'ids' : '999999999',\n",
    "'metrics' : 'sessions',\n",
    "'dimensions' : 'deviceCategory',\n",
    "'sort' : '-sessions',\n",
    "'start_date' : '2017-07-27',\n",
    "'end_date' : '2017-08-02'\n",
    "}\n",
    "\n",
    "df3b, metadata = conn.execute_query(**query)\n"
   ]
  },
  {
   "cell_type": "code",
   "execution_count": 95,
   "metadata": {},
   "outputs": [
    {
     "data": {
      "text/html": [
       "<div>\n",
       "<table border=\"1\" class=\"dataframe\">\n",
       "  <thead>\n",
       "    <tr style=\"text-align: right;\">\n",
       "      <th></th>\n",
       "      <th>deviceCategory</th>\n",
       "      <th>sessions</th>\n",
       "    </tr>\n",
       "  </thead>\n",
       "  <tbody>\n",
       "    <tr>\n",
       "      <th>0</th>\n",
       "      <td>desktop</td>\n",
       "      <td>423</td>\n",
       "    </tr>\n",
       "    <tr>\n",
       "      <th>1</th>\n",
       "      <td>mobile</td>\n",
       "      <td>136</td>\n",
       "    </tr>\n",
       "    <tr>\n",
       "      <th>2</th>\n",
       "      <td>tablet</td>\n",
       "      <td>18</td>\n",
       "    </tr>\n",
       "  </tbody>\n",
       "</table>\n",
       "</div>"
      ],
      "text/plain": [
       "  deviceCategory  sessions\n",
       "0        desktop       423\n",
       "1         mobile       136\n",
       "2         tablet        18"
      ]
     },
     "execution_count": 95,
     "metadata": {},
     "output_type": "execute_result"
    }
   ],
   "source": [
    "df3a.head()"
   ]
  },
  {
   "cell_type": "code",
   "execution_count": 96,
   "metadata": {},
   "outputs": [
    {
     "data": {
      "text/html": [
       "<div>\n",
       "<table border=\"1\" class=\"dataframe\">\n",
       "  <thead>\n",
       "    <tr style=\"text-align: right;\">\n",
       "      <th></th>\n",
       "      <th>deviceCategory</th>\n",
       "      <th>sessions</th>\n",
       "    </tr>\n",
       "  </thead>\n",
       "  <tbody>\n",
       "    <tr>\n",
       "      <th>0</th>\n",
       "      <td>desktop</td>\n",
       "      <td>695</td>\n",
       "    </tr>\n",
       "    <tr>\n",
       "      <th>1</th>\n",
       "      <td>mobile</td>\n",
       "      <td>293</td>\n",
       "    </tr>\n",
       "    <tr>\n",
       "      <th>2</th>\n",
       "      <td>tablet</td>\n",
       "      <td>48</td>\n",
       "    </tr>\n",
       "  </tbody>\n",
       "</table>\n",
       "</div>"
      ],
      "text/plain": [
       "  deviceCategory  sessions\n",
       "0        desktop       695\n",
       "1         mobile       293\n",
       "2         tablet        48"
      ]
     },
     "execution_count": 96,
     "metadata": {},
     "output_type": "execute_result"
    }
   ],
   "source": [
    "df3b.head()"
   ]
  },
  {
   "cell_type": "markdown",
   "metadata": {},
   "source": [
    "Goal is to display the piecharts for the 1st and 2nd week. It would be important to use the domain parameter to set the position of the charts. Further parameters can be found in the official Plotly documentation"
   ]
  },
  {
   "cell_type": "code",
   "execution_count": 97,
   "metadata": {},
   "outputs": [
    {
     "data": {
      "text/html": [
       "<iframe id=\"igraph\" scrolling=\"no\" style=\"border:none;\" seamless=\"seamless\" src=\"https://plot.ly/~newbilearning/4.embed\" height=\"525px\" width=\"100%\"></iframe>"
      ],
      "text/plain": [
       "<plotly.tools.PlotlyDisplay object>"
      ]
     },
     "execution_count": 97,
     "metadata": {},
     "output_type": "execute_result"
    }
   ],
   "source": [
    "fig = {\n",
    "'data': [\n",
    "{\n",
    "'labels': df3a.deviceCategory,\n",
    "'values': df3a.sessions,\n",
    "'type': 'pie',\n",
    "'domain': {'x': [0, .48], 'y': [.21, 1]},\n",
    "'name': '1st Week'\n",
    "},\n",
    "{\n",
    "'labels': df3b.deviceCategory,\n",
    "'values': df3b.sessions,\n",
    "'type': 'pie',\n",
    "'domain': {'x': [.49, .97], 'y': [.21, 1]},\n",
    "'name': '2nd Week'\n",
    "}\n",
    "],\n",
    "'layout': {'title': 'Device use over time',\n",
    "'showlegend': False}\n",
    "}\n",
    "py.iplot(fig)"
   ]
  },
  {
   "cell_type": "markdown",
   "metadata": {},
   "source": [
    "Insights: The number of mobile sessions increased slightly while the number of desktop sessions decreased. \n",
    "If this is just noise or a real shift in sessions could be probably best evaluated using more timepoints."
   ]
  },
  {
   "cell_type": "markdown",
   "metadata": {},
   "source": [
    "## 7. Closing words"
   ]
  },
  {
   "cell_type": "markdown",
   "metadata": {},
   "source": [
    "Webtraffic allows a wide variety of potentially interesting analyses which is usefull for Marketing team for fine tuning strategy . \n",
    "Lots of other measures can be explored. \n",
    "\n",
    "1.Is webtraffic different during certain hours or weekdays?.\n",
    "\n",
    "2.What is the duration that visitors stay on the website?\n",
    "\n",
    "3.From which websites are users referred?\n",
    "\n",
    "4.Is there a change in geographic distribution over time?\n",
    "\n",
    "Bringing webtraffic data to Python is rewarding for several reasons. Python can automate basic to advanced analyses. \n",
    "After programming the analysis pipeline, a single button press can produce the desired analyses and visualizations in a report.\n",
    "And last but not least, periodical updates can be produced on a regular basis,customized to your goals."
   ]
  },
  {
   "cell_type": "markdown",
   "metadata": {},
   "source": []
  }
 ],
 "metadata": {
  "kernelspec": {
   "display_name": "Python 2 with Spark 2.0",
   "language": "python",
   "name": "python2-spark20"
  },
  "language_info": {
   "codemirror_mode": {
    "name": "ipython",
    "version": 2
   },
   "file_extension": ".py",
   "mimetype": "text/x-python",
   "name": "python",
   "nbconvert_exporter": "python",
   "pygments_lexer": "ipython2",
   "version": "2.7.11"
  }
 },
 "nbformat": 4,
 "nbformat_minor": 1
}
